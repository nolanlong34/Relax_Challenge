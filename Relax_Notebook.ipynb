{
 "cells": [
  {
   "cell_type": "code",
   "execution_count": 98,
   "metadata": {},
   "outputs": [],
   "source": [
    "import pandas as pd"
   ]
  },
  {
   "cell_type": "code",
   "execution_count": 99,
   "metadata": {},
   "outputs": [],
   "source": [
    "user_df = pd.read_csv('takehome_users.csv', encoding='latin-1')\n",
    "user_df_saved = user_df.copy()\n",
    "engagement_df = pd.read_csv('takehome_user_engagement.csv')"
   ]
  },
  {
   "cell_type": "code",
   "execution_count": 100,
   "metadata": {},
   "outputs": [],
   "source": [
    "# Convert time_stamp to datetime\n",
    "engagement_df['time_stamp'] = pd.to_datetime(engagement_df['time_stamp'])\n",
    "\n"
   ]
  },
  {
   "cell_type": "code",
   "execution_count": 101,
   "metadata": {},
   "outputs": [],
   "source": [
    "# creates a list of users who have logged in on three separate days in at least one seven-day period\n",
    "adopted_users_list = []\n",
    "for user in engagement_df['user_id'].unique():\n",
    "    user_df = engagement_df[engagement_df['user_id'] == user]\n",
    "    user_df = user_df.set_index('time_stamp')\n",
    "    user_df = user_df.resample('D').count()\n",
    "    user_df = user_df[user_df['visited'] > 0]\n",
    "    user_df = user_df.rolling(window=7).sum()\n",
    "    if user_df['visited'].max() >= 3:\n",
    "        adopted_users_list.append(user)"
   ]
  },
  {
   "cell_type": "code",
   "execution_count": 102,
   "metadata": {},
   "outputs": [],
   "source": [
    "# Create a column in user_df to indicate if a user is an adopted user\n",
    "user_df_saved['adopted_user'] = user_df_saved['object_id'].apply(lambda x: 1 if x in adopted_users_list else 0)"
   ]
  },
  {
   "cell_type": "code",
   "execution_count": 103,
   "metadata": {},
   "outputs": [],
   "source": [
    "#creates dummy variables for the creation_source column\n",
    "dummy_df = pd.get_dummies(user_df_saved['creation_source'])\n",
    "user_df_saved = pd.concat([user_df_saved, dummy_df], axis=1)\n",
    "user_df_saved.drop('creation_source', axis=1, inplace=True)"
   ]
  },
  {
   "cell_type": "code",
   "execution_count": 104,
   "metadata": {},
   "outputs": [],
   "source": [
    "#fill in missing values with 0\n",
    "user_df_saved.fillna(0, inplace=True)"
   ]
  },
  {
   "cell_type": "code",
   "execution_count": 105,
   "metadata": {},
   "outputs": [],
   "source": [
    "#drop columns that are not needed\n",
    "user_df_saved.drop(['object_id', 'name', 'email',], axis=1, inplace=True)"
   ]
  },
  {
   "cell_type": "code",
   "execution_count": 108,
   "metadata": {},
   "outputs": [],
   "source": [
    "#sets date columns to datetime\n",
    "user_df_saved['creation_time'] = pd.to_datetime(user_df_saved['creation_time'])\n",
    "user_df_saved['last_session_creation_time'] = pd.to_datetime(user_df_saved['last_session_creation_time'], unit='s')"
   ]
  },
  {
   "cell_type": "code",
   "execution_count": 109,
   "metadata": {},
   "outputs": [
    {
     "data": {
      "text/plain": [
       "adopted_user                  1.000000\n",
       "last_session_creation_time    0.248590\n",
       "org_id                        0.063737\n",
       "GUEST_INVITE                  0.043657\n",
       "SIGNUP_GOOGLE_AUTH            0.034821\n",
       "invited_by_user_id            0.021602\n",
       "opted_in_to_mailing_list      0.006780\n",
       "SIGNUP                        0.006635\n",
       "enabled_for_marketing_drip    0.005074\n",
       "ORG_INVITE                   -0.003146\n",
       "PERSONAL_PROJECTS            -0.075949\n",
       "creation_time                -0.088143\n",
       "Name: adopted_user, dtype: float64"
      ]
     },
     "execution_count": 109,
     "metadata": {},
     "output_type": "execute_result"
    }
   ],
   "source": [
    "user_df_saved.corr()['adopted_user'].sort_values(ascending=False)"
   ]
  },
  {
   "cell_type": "code",
   "execution_count": 113,
   "metadata": {},
   "outputs": [],
   "source": [
    "#makes the last_session_creation_time and first session column into a unix timestamp\n",
    "user_df_saved['last_session_creation_time'] = user_df_saved['last_session_creation_time'].astype('int64')\n",
    "user_df_saved['creation_time'] = user_df_saved['creation_time'].astype('int64')\n"
   ]
  },
  {
   "cell_type": "code",
   "execution_count": 115,
   "metadata": {},
   "outputs": [
    {
     "name": "stdout",
     "output_type": "stream",
     "text": [
      "                            importance\n",
      "last_session_creation_time    0.681473\n",
      "creation_time                 0.214105\n",
      "org_id                        0.052932\n",
      "invited_by_user_id            0.031788\n",
      "opted_in_to_mailing_list      0.004325\n",
      "enabled_for_marketing_drip    0.003989\n",
      "PERSONAL_PROJECTS             0.003604\n",
      "GUEST_INVITE                  0.002188\n",
      "ORG_INVITE                    0.002156\n",
      "SIGNUP_GOOGLE_AUTH            0.001868\n",
      "SIGNUP                        0.001571\n",
      "0.9680555555555556\n"
     ]
    }
   ],
   "source": [
    "#find the most important features using a random forest classifier\n",
    "from sklearn.ensemble import RandomForestClassifier\n",
    "from sklearn.model_selection import train_test_split\n",
    "\n",
    "X = user_df_saved.drop('adopted_user', axis=1)\n",
    "y = user_df_saved['adopted_user']\n",
    "\n",
    "X_train, X_test, y_train, y_test = train_test_split(X, y, test_size=0.3, random_state=34)\n",
    "\n",
    "rf = RandomForestClassifier()\n",
    "rf.fit(X_train, y_train)\n",
    "\n",
    "feature_importances = pd.DataFrame(rf.feature_importances_,\n",
    "                                      index = X_train.columns,\n",
    "                                        columns=['importance']).sort_values('importance', ascending=False)\n",
    "\n",
    "print(feature_importances)\n",
    "\n",
    "print(rf.score(X_test, y_test))"
   ]
  },
  {
   "cell_type": "code",
   "execution_count": null,
   "metadata": {},
   "outputs": [],
   "source": []
  }
 ],
 "metadata": {
  "kernelspec": {
   "display_name": "base",
   "language": "python",
   "name": "python3"
  },
  "language_info": {
   "codemirror_mode": {
    "name": "ipython",
    "version": 3
   },
   "file_extension": ".py",
   "mimetype": "text/x-python",
   "name": "python",
   "nbconvert_exporter": "python",
   "pygments_lexer": "ipython3",
   "version": "3.11.5"
  }
 },
 "nbformat": 4,
 "nbformat_minor": 2
}
